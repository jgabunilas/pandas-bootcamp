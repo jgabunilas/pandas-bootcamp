{
 "cells": [
  {
   "cell_type": "markdown",
   "id": "e143764f",
   "metadata": {},
   "source": [
    "# Section 2 Skill Challenge"
   ]
  },
  {
   "cell_type": "markdown",
   "id": "b1f8cd48",
   "metadata": {},
   "source": [
    "1. Create a series length 100 containing the squares of integers from 0 to 99. Assign it to the variable `squares`\n",
    "2. Extract the last three items from the `squares` series using bracket indexing.\n",
    "3. Repeat Step 2 but using the `.tail()` method instead.\n",
    "4. Verify that the output of steps 2 and 3 is the same using the `equals()` method. (https://pandas.pydata.org/pandas-docs/stable/reference/api/pandas.Series.equals.html)"
   ]
  },
  {
   "cell_type": "code",
   "execution_count": 10,
   "id": "c63db246",
   "metadata": {},
   "outputs": [],
   "source": [
    "import pandas as pd"
   ]
  },
  {
   "cell_type": "markdown",
   "id": "1fc84914",
   "metadata": {},
   "source": [
    "Step 1"
   ]
  },
  {
   "cell_type": "code",
   "execution_count": 11,
   "id": "928560d6",
   "metadata": {},
   "outputs": [
    {
     "data": {
      "text/plain": [
       "0        0\n",
       "1        1\n",
       "2        4\n",
       "3        9\n",
       "4       16\n",
       "      ... \n",
       "95    9025\n",
       "96    9216\n",
       "97    9409\n",
       "98    9604\n",
       "99    9801\n",
       "Length: 100, dtype: int64"
      ]
     },
     "execution_count": 11,
     "metadata": {},
     "output_type": "execute_result"
    }
   ],
   "source": [
    "squares_list = [value**2 for value in range(100)]\n",
    "squares = pd.Series(squares_list)\n",
    "squares"
   ]
  },
  {
   "cell_type": "markdown",
   "id": "46d124a8",
   "metadata": {},
   "source": [
    "Step 2"
   ]
  },
  {
   "cell_type": "code",
   "execution_count": 15,
   "id": "5e4aef6d",
   "metadata": {},
   "outputs": [
    {
     "data": {
      "text/plain": [
       "97    9409\n",
       "98    9604\n",
       "99    9801\n",
       "dtype: int64"
      ]
     },
     "execution_count": 15,
     "metadata": {},
     "output_type": "execute_result"
    }
   ],
   "source": [
    "bracket_last_3 = squares[-3:]\n",
    "bracket_last_3"
   ]
  },
  {
   "cell_type": "markdown",
   "id": "39efeda1",
   "metadata": {},
   "source": [
    "Step 3"
   ]
  },
  {
   "cell_type": "code",
   "execution_count": 16,
   "id": "a293ccf3",
   "metadata": {},
   "outputs": [
    {
     "data": {
      "text/plain": [
       "97    9409\n",
       "98    9604\n",
       "99    9801\n",
       "dtype: int64"
      ]
     },
     "execution_count": 16,
     "metadata": {},
     "output_type": "execute_result"
    }
   ],
   "source": [
    "tail_last_3 = squares.tail(3)\n",
    "tail_last_3"
   ]
  },
  {
   "cell_type": "markdown",
   "id": "0c36494b",
   "metadata": {},
   "source": [
    "Step 4"
   ]
  },
  {
   "cell_type": "code",
   "execution_count": 14,
   "id": "1a5af081",
   "metadata": {},
   "outputs": [
    {
     "data": {
      "text/plain": [
       "True"
      ]
     },
     "execution_count": 14,
     "metadata": {},
     "output_type": "execute_result"
    }
   ],
   "source": [
    "bracket_last_3.equals(tail_last_3)"
   ]
  },
  {
   "cell_type": "markdown",
   "id": "228127ad",
   "metadata": {},
   "source": [
    "### Bonus: comparison using the `==` Boolean operator\n",
    "When comparing the series in this manner, what you get back is an element-by-element comparison of the two series"
   ]
  },
  {
   "cell_type": "code",
   "execution_count": 17,
   "id": "e93bf088",
   "metadata": {},
   "outputs": [
    {
     "data": {
      "text/plain": [
       "97    True\n",
       "98    True\n",
       "99    True\n",
       "dtype: bool"
      ]
     },
     "execution_count": 17,
     "metadata": {},
     "output_type": "execute_result"
    }
   ],
   "source": [
    "bracket_last_3 == tail_last_3"
   ]
  },
  {
   "cell_type": "code",
   "execution_count": null,
   "id": "2fe7403b",
   "metadata": {},
   "outputs": [],
   "source": []
  }
 ],
 "metadata": {
  "kernelspec": {
   "display_name": "Python 3.6.10 64-bit ('PythonData': conda)",
   "language": "python",
   "name": "python361064bitpythondataconda907735891ebd40c8b062b8b7a0c6961c"
  },
  "language_info": {
   "codemirror_mode": {
    "name": "ipython",
    "version": 3
   },
   "file_extension": ".py",
   "mimetype": "text/x-python",
   "name": "python",
   "nbconvert_exporter": "python",
   "pygments_lexer": "ipython3",
   "version": "3.6.13"
  }
 },
 "nbformat": 4,
 "nbformat_minor": 5
}
