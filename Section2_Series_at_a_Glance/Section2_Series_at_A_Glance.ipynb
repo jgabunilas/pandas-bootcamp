{
 "cells": [
  {
   "cell_type": "markdown",
   "metadata": {},
   "source": [
    "# Section 2: Series at a Glance"
   ]
  },
  {
   "cell_type": "code",
   "execution_count": 1,
   "metadata": {
    "colab": {
     "base_uri": "https://localhost:8080/",
     "height": 17
    },
    "executionInfo": {
     "elapsed": 12,
     "status": "ok",
     "timestamp": 1622303184550,
     "user": {
      "displayName": "JASON GABUNILAS",
      "photoUrl": "",
      "userId": "00539107698526397852"
     },
     "user_tz": 420
    },
    "id": "2vnYIfOjyGs4",
    "outputId": "00e944a9-7ae4-412a-cb48-3d057896deb2"
   },
   "outputs": [],
   "source": [
    "# Import pandas\n",
    "import pandas as pd"
   ]
  },
  {
   "cell_type": "markdown",
   "metadata": {
    "id": "Vx2MaSY2yh0R"
   },
   "source": [
    "A series consists of one-dimensional list of values and their associated labels. The series may contain any type of data - strings, booleans, integers, floats, etc.\n",
    "* https://pandas.pydata.org/pandas-docs/stable/reference/api/pandas.Series.html\n"
   ]
  },
  {
   "cell_type": "markdown",
   "metadata": {},
   "source": [
    "## Illustrating series"
   ]
  },
  {
   "cell_type": "markdown",
   "metadata": {},
   "source": [
    "Create a simple list of student names\n"
   ]
  },
  {
   "cell_type": "code",
   "execution_count": 2,
   "metadata": {
    "colab": {
     "base_uri": "https://localhost:8080/",
     "height": 34
    },
    "executionInfo": {
     "elapsed": 744,
     "status": "ok",
     "timestamp": 1622303185286,
     "user": {
      "displayName": "JASON GABUNILAS",
      "photoUrl": "",
      "userId": "00539107698526397852"
     },
     "user_tz": 420
    },
    "id": "o4xZ3Ygiyj_P",
    "outputId": "f44489a2-08cd-4047-e969-853406df718d"
   },
   "outputs": [
    {
     "data": {
      "text/plain": [
       "list"
      ]
     },
     "execution_count": 2,
     "metadata": {},
     "output_type": "execute_result"
    }
   ],
   "source": [
    "students = [\"Andrew\", \"Brie\", \"Kanika\"]\n",
    "type(students)"
   ]
  },
  {
   "cell_type": "markdown",
   "metadata": {},
   "source": [
    "Now create a series from this list using the series constructor\n",
    "The series consists of the list of values and their associated labels. The series may contain any type of data - strings, booleans, integers, floats, etc."
   ]
  },
  {
   "cell_type": "code",
   "execution_count": 3,
   "metadata": {
    "colab": {
     "base_uri": "https://localhost:8080/",
     "height": 85
    },
    "executionInfo": {
     "elapsed": 748,
     "status": "ok",
     "timestamp": 1622303185291,
     "user": {
      "displayName": "JASON GABUNILAS",
      "photoUrl": "",
      "userId": "00539107698526397852"
     },
     "user_tz": 420
    },
    "id": "Zyr4pjeQyrP9",
    "outputId": "90a86701-0ef1-4ba6-cf4c-1cd81eeae2c2"
   },
   "outputs": [
    {
     "data": {
      "text/plain": [
       "0    Andrew\n",
       "1      Brie\n",
       "2    Kanika\n",
       "dtype: object"
      ]
     },
     "execution_count": 3,
     "metadata": {},
     "output_type": "execute_result"
    }
   ],
   "source": [
    "\n",
    "pd.Series(students)"
   ]
  },
  {
   "cell_type": "markdown",
   "metadata": {},
   "source": [
    "Create a list of ages for these students and convert to a series. Notice the datatype is different from the first series. Pandas has automatically figured out what type of data this is and has constructed a series of that data type accordingly\n"
   ]
  },
  {
   "cell_type": "code",
   "execution_count": 4,
   "metadata": {
    "colab": {
     "base_uri": "https://localhost:8080/",
     "height": 85
    },
    "executionInfo": {
     "elapsed": 186,
     "status": "ok",
     "timestamp": 1622303329725,
     "user": {
      "displayName": "JASON GABUNILAS",
      "photoUrl": "",
      "userId": "00539107698526397852"
     },
     "user_tz": 420
    },
    "id": "d2_JveKZyvms",
    "outputId": "d5649395-0cda-4994-970e-2060fcc1bb64"
   },
   "outputs": [
    {
     "data": {
      "text/plain": [
       "0    27\n",
       "1    49\n",
       "2    37\n",
       "dtype: int64"
      ]
     },
     "execution_count": 4,
     "metadata": {},
     "output_type": "execute_result"
    }
   ],
   "source": [
    "ages = [27, 49, 37]\n",
    "pd.Series(ages)"
   ]
  },
  {
   "cell_type": "markdown",
   "metadata": {},
   "source": [
    "Create a list of heights for these students and convert to a series. Notice that the datatype for this series is different as well. It is a float64\n"
   ]
  },
  {
   "cell_type": "code",
   "execution_count": 5,
   "metadata": {
    "colab": {
     "base_uri": "https://localhost:8080/",
     "height": 85
    },
    "executionInfo": {
     "elapsed": 467,
     "status": "ok",
     "timestamp": 1622303335951,
     "user": {
      "displayName": "JASON GABUNILAS",
      "photoUrl": "",
      "userId": "00539107698526397852"
     },
     "user_tz": 420
    },
    "id": "HtSNJ9MIz6df",
    "outputId": "b9ad17bc-1933-414a-e858-b790ae62df02"
   },
   "outputs": [
    {
     "data": {
      "text/plain": [
       "0    167.4\n",
       "1    173.2\n",
       "2    190.0\n",
       "dtype: float64"
      ]
     },
     "execution_count": 5,
     "metadata": {},
     "output_type": "execute_result"
    }
   ],
   "source": [
    "heights = [167.4, 173.2, 190.0]\n",
    "pd.Series(heights)"
   ]
  },
  {
   "cell_type": "markdown",
   "metadata": {
    "id": "OIFYSLPw0GOP"
   },
   "source": [
    "## Unlike Numpy arrays, Pandas series support mixed datatypes\n",
    "In the example below, we are able to create a list of mixed datatypes, then turn them into a series. This makes the series much more flexible"
   ]
  },
  {
   "cell_type": "code",
   "execution_count": 6,
   "metadata": {},
   "outputs": [
    {
     "data": {
      "text/plain": [
       "0                True\n",
       "1                 say\n",
       "2    {'my_mood': 100}\n",
       "dtype: object"
      ]
     },
     "execution_count": 6,
     "metadata": {},
     "output_type": "execute_result"
    }
   ],
   "source": [
    "mixed = [True, 'say', {'my_mood' : 100}]\n",
    "pd.Series(mixed)"
   ]
  },
  {
   "cell_type": "markdown",
   "metadata": {},
   "source": [
    "## Parameters vs. Arguments\n",
    "* In the previous examples, we provided Python lists directly into the series constructor, which is itself a function. In doing so, we are passing a list as an **argument** into the \"data\" parameter of the `pd.Series(data = )` function\n",
    "* **Parameters** are what the function expects to be passed in\n",
    "* **Arguments** are the *data* being passed in to the function"
   ]
  },
  {
   "cell_type": "markdown",
   "metadata": {},
   "source": [
    "In this simple example of a function called `greeting`, `something` is the parameter while *\"good morning to you\"* is the data"
   ]
  },
  {
   "cell_type": "code",
   "execution_count": 7,
   "metadata": {},
   "outputs": [
    {
     "name": "stdout",
     "output_type": "stream",
     "text": [
      "good morning to you\n"
     ]
    }
   ],
   "source": [
    "def greeting(something):\n",
    "    print(something)\n",
    "\n",
    "greeting('good morning to you')"
   ]
  },
  {
   "cell_type": "markdown",
   "metadata": {},
   "source": [
    "## What's in the data?\n",
    "Notice that when we create Pandas series, we only specify the *values*. Pandas automatically generates the *labels* that go with the values.\n",
    "In the example below, these three book titles are assigned numerical labels."
   ]
  },
  {
   "cell_type": "code",
   "execution_count": 8,
   "metadata": {},
   "outputs": [],
   "source": [
    "books_list = ['Fooled by Randomness', 'Sapiens', 'Lenin on the Train']"
   ]
  },
  {
   "cell_type": "code",
   "execution_count": 9,
   "metadata": {},
   "outputs": [],
   "source": [
    "list_s = pd.Series(books_list)"
   ]
  },
  {
   "cell_type": "markdown",
   "metadata": {},
   "source": [
    "Behind the scenes, this is what's going on:\n",
    "\n",
    "`books_list = [0:'Fooled by Randomness', 1:'Sapiens', 2:\"Lenin on the Train\"]`\n",
    "\n",
    "Each item is associated with an index that specifies its location in the series. Notice how similar this is to a Python dictionary"
   ]
  },
  {
   "cell_type": "markdown",
   "metadata": {},
   "source": [
    "Let's try creating a dictionary for these book titles."
   ]
  },
  {
   "cell_type": "code",
   "execution_count": 10,
   "metadata": {},
   "outputs": [],
   "source": [
    "books_dict = {0: \"Fooled by Randomness\", 1: \"Sapiens\", 2: \"Lenin on the Train\"}"
   ]
  },
  {
   "cell_type": "markdown",
   "metadata": {},
   "source": [
    "We can then convert this into a Pandas series! This series based on a dictionary is seemingly identical to the series that was based on a list. But is it actually identical?"
   ]
  },
  {
   "cell_type": "code",
   "execution_count": 11,
   "metadata": {},
   "outputs": [],
   "source": [
    "dict_s = pd.Series(books_dict)"
   ]
  },
  {
   "cell_type": "markdown",
   "metadata": {},
   "source": [
    "We will now use the `equals()` method to test whether the two series are actually equivalent. It turns out that they are indeed identical!"
   ]
  },
  {
   "cell_type": "code",
   "execution_count": 12,
   "metadata": {},
   "outputs": [
    {
     "data": {
      "text/plain": [
       "True"
      ]
     },
     "execution_count": 12,
     "metadata": {},
     "output_type": "execute_result"
    }
   ],
   "source": [
    "list_s.equals(dict_s)"
   ]
  },
  {
   "cell_type": "markdown",
   "metadata": {},
   "source": [
    "We can also create Pandas series by passing in scalers. Pandas will automatically assign indices. Pandas is not critically dependent on labels, instead relying on integer sequences when there is nothing else to work with"
   ]
  },
  {
   "cell_type": "code",
   "execution_count": 13,
   "metadata": {},
   "outputs": [
    {
     "data": {
      "text/plain": [
       "0    714\n",
       "dtype: int64"
      ]
     },
     "execution_count": 13,
     "metadata": {},
     "output_type": "execute_result"
    }
   ],
   "source": [
    "pd.Series(714)"
   ]
  },
  {
   "cell_type": "code",
   "execution_count": 14,
   "metadata": {},
   "outputs": [
    {
     "data": {
      "text/plain": [
       "0    Andy\n",
       "dtype: object"
      ]
     },
     "execution_count": 14,
     "metadata": {},
     "output_type": "execute_result"
    }
   ],
   "source": [
    "pd.Series('Andy')"
   ]
  },
  {
   "cell_type": "markdown",
   "metadata": {},
   "source": [
    "## The dtype attribute\n",
    "Remember that the dtype is automatically inferred by Pandas when providing data to the Series constructor function.\n",
    "We also have the option of specifying *dtype* ourselves.\n",
    "Returning to our `ages` series, we can specify the dtype as \"float\" even though the valeus passed in were integers"
   ]
  },
  {
   "cell_type": "code",
   "execution_count": 15,
   "metadata": {},
   "outputs": [
    {
     "data": {
      "text/plain": [
       "0    27\n",
       "1    49\n",
       "2    37\n",
       "dtype: int64"
      ]
     },
     "execution_count": 15,
     "metadata": {},
     "output_type": "execute_result"
    }
   ],
   "source": [
    "pd.Series(ages)"
   ]
  },
  {
   "cell_type": "code",
   "execution_count": 16,
   "metadata": {},
   "outputs": [
    {
     "data": {
      "text/plain": [
       "0    27.0\n",
       "1    49.0\n",
       "2    37.0\n",
       "dtype: float64"
      ]
     },
     "execution_count": 16,
     "metadata": {},
     "output_type": "execute_result"
    }
   ],
   "source": [
    "pd.Series(ages, dtype = 'float')"
   ]
  },
  {
   "cell_type": "markdown",
   "metadata": {},
   "source": [
    "* For the most part, you'll want to avoid specify dtype manually because the automatic inference from Pandas is usually good enough\n",
    "* Any series that contains a string becomes a `dtype: object`, or `dytpe('O'),` automatically"
   ]
  },
  {
   "cell_type": "markdown",
   "metadata": {},
   "source": [
    "## What is `dtype`?"
   ]
  },
  {
   "cell_type": "markdown",
   "metadata": {},
   "source": [
    "* Remember that numpy arrays are homogenous - they only contain same-sized data"
   ]
  },
  {
   "cell_type": "markdown",
   "metadata": {},
   "source": [
    "Let's return to our heights series. The dtype is `float64`, and Python knows exactly how much memory to allocate to each of these items\n"
   ]
  },
  {
   "cell_type": "code",
   "execution_count": 17,
   "metadata": {},
   "outputs": [
    {
     "data": {
      "text/plain": [
       "[167.4, 173.2, 190.0]"
      ]
     },
     "execution_count": 17,
     "metadata": {},
     "output_type": "execute_result"
    }
   ],
   "source": [
    "heights"
   ]
  },
  {
   "cell_type": "code",
   "execution_count": 18,
   "metadata": {},
   "outputs": [
    {
     "data": {
      "text/plain": [
       "0    167.4\n",
       "1    173.2\n",
       "2    190.0\n",
       "dtype: float64"
      ]
     },
     "execution_count": 18,
     "metadata": {},
     "output_type": "execute_result"
    }
   ],
   "source": [
    "pd.Series(heights)"
   ]
  },
  {
   "cell_type": "markdown",
   "metadata": {},
   "source": [
    "However, strings are variable-length and can take up different amounts of memory. So instead of saving the strings in the numpy array itself, Numpy instead saves a pointer to the object in memory"
   ]
  },
  {
   "cell_type": "markdown",
   "metadata": {},
   "source": [
    "Let's create a new series in which one of the heights values is a string instead of a float. This forces Pandas/Numpy to store references to the data points themselves."
   ]
  },
  {
   "cell_type": "code",
   "execution_count": 19,
   "metadata": {},
   "outputs": [],
   "source": [
    "heights2 = [167.4, '173.2', 190.0]"
   ]
  },
  {
   "cell_type": "markdown",
   "metadata": {},
   "source": [
    "Note that the datatype is simply `object`"
   ]
  },
  {
   "cell_type": "code",
   "execution_count": 20,
   "metadata": {},
   "outputs": [
    {
     "data": {
      "text/plain": [
       "0    167.4\n",
       "1    173.2\n",
       "2      190\n",
       "dtype: object"
      ]
     },
     "execution_count": 20,
     "metadata": {},
     "output_type": "execute_result"
    }
   ],
   "source": [
    "pd.Series(heights2)"
   ]
  },
  {
   "cell_type": "markdown",
   "metadata": {},
   "source": [
    "## Index and RangeIndex\n",
    "* In Pandas, data aligns automatically by the labels, or the indices\n",
    "* When constructing a series from a list, Pandas automatically generates the index for us\n",
    "  * The **index** is a sequence of numbers that starts at 0 and ends at one value less than the length of the series\n",
    "* However, we can generate our own labels if we want! They don't have to be just integers"
   ]
  },
  {
   "cell_type": "markdown",
   "metadata": {},
   "source": [
    "In the example below, we create a new series using the previous list of books, and then set the indices to be customized values that we have passed in using a list\n",
    "* Note that although we have specified the keyword arguments here when passing in the data and index lists (\"data\" and \"index\"), we did not have to do so. Pandas would have automatically recognized them because they are *positional arguments*. That is, the `Series` constructor function knows in what order to expect the arguments."
   ]
  },
  {
   "cell_type": "code",
   "execution_count": 21,
   "metadata": {},
   "outputs": [
    {
     "data": {
      "text/plain": [
       "funny                  Fooled by Randomness\n",
       "serious and amusing                 Sapiens\n",
       "kinda interesting        Lenin on the Train\n",
       "dtype: object"
      ]
     },
     "execution_count": 21,
     "metadata": {},
     "output_type": "execute_result"
    }
   ],
   "source": [
    "pd.Series(data = books_list, index = ['funny', 'serious and amusing', 'kinda interesting'])"
   ]
  },
  {
   "cell_type": "markdown",
   "metadata": {},
   "source": [
    "Starting with Pandas version 1.0.1, a `dtype` of \"string\" was introduced."
   ]
  },
  {
   "cell_type": "markdown",
   "metadata": {},
   "source": [
    "### RangeIndex\n",
    "* The index that is automatically generated is a built-in Pandas object called a `RangeIndex`\n",
    "* Don't worry about the technicalities. The point is that this is built-in object that creates a sequence of integers with fixed differences, as specified in the `step` parameter.\n",
    "* By default, the index begins at 0 and stops at one integer prior the length of the series\n",
    "* https://pandas.pydata.org/pandas-docs/stable/reference/api/pandas.RangeIndex.html"
   ]
  },
  {
   "cell_type": "code",
   "execution_count": 22,
   "metadata": {},
   "outputs": [
    {
     "data": {
      "text/plain": [
       "RangeIndex(start=0, stop=3, step=1)"
      ]
     },
     "execution_count": 22,
     "metadata": {},
     "output_type": "execute_result"
    }
   ],
   "source": [
    "list_s.index"
   ]
  },
  {
   "cell_type": "code",
   "execution_count": 23,
   "metadata": {},
   "outputs": [
    {
     "data": {
      "text/plain": [
       "pandas.core.indexes.range.RangeIndex"
      ]
     },
     "execution_count": 23,
     "metadata": {},
     "output_type": "execute_result"
    }
   ],
   "source": [
    "type(list_s.index)"
   ]
  },
  {
   "cell_type": "markdown",
   "metadata": {},
   "source": [
    "Let's create our own Range Indices using the `RangeIndex()` function. This allows us to generate a custom index for our series"
   ]
  },
  {
   "cell_type": "code",
   "execution_count": 24,
   "metadata": {},
   "outputs": [
    {
     "data": {
      "text/plain": [
       "[4, 5, 6]"
      ]
     },
     "execution_count": 24,
     "metadata": {},
     "output_type": "execute_result"
    }
   ],
   "source": [
    "pd.RangeIndex(start = 4, stop = 7, step = 1)\n",
    "list(pd.RangeIndex(start = 4, stop = 7, step = 1))"
   ]
  },
  {
   "cell_type": "markdown",
   "metadata": {},
   "source": [
    "Another example"
   ]
  },
  {
   "cell_type": "code",
   "execution_count": 25,
   "metadata": {},
   "outputs": [
    {
     "data": {
      "text/plain": [
       "[10, 9, 8, 7, 6, 5, 4, 3, 2, 1, 0, -1, -2, -3, -4, -5, -6, -7, -8, -9, -10]"
      ]
     },
     "execution_count": 25,
     "metadata": {},
     "output_type": "execute_result"
    }
   ],
   "source": [
    "pd.RangeIndex(start = 10, stop = -11, step = -1)\n",
    "list(pd.RangeIndex(start = 10, stop = -11, step = -1))"
   ]
  },
  {
   "cell_type": "markdown",
   "metadata": {},
   "source": [
    "RangeIndex is **immutable** and cannot be changed after it is created. To be modified, we have to create a new one and assign it to another place in memory.\n",
    "Pandas uses this fact internally for performance optimization reasons."
   ]
  },
  {
   "cell_type": "markdown",
   "metadata": {},
   "source": [
    "## Series and Index Names\n"
   ]
  },
  {
   "cell_type": "markdown",
   "metadata": {},
   "source": [
    "Let's revisit our book title series, which recall is a sequence of values and their associated indices (labels). Let's also assign it to a more **intelligable** variable name, `books_series`"
   ]
  },
  {
   "cell_type": "code",
   "execution_count": 28,
   "metadata": {},
   "outputs": [
    {
     "data": {
      "text/plain": [
       "0    Fooled by Randomness\n",
       "1                 Sapiens\n",
       "2      Lenin on the Train\n",
       "dtype: object"
      ]
     },
     "execution_count": 28,
     "metadata": {},
     "output_type": "execute_result"
    }
   ],
   "source": [
    "books_series = list_s\n",
    "books_series"
   ]
  },
  {
   "cell_type": "markdown",
   "metadata": {},
   "source": [
    "### Attributes and Methods\n",
    "* Objects in Python have *attributes* and *methods* (more on this if you learn OOP)\n",
    "* An **attribute** is a varialbe that is bound to an object\n",
    "* A **method** is a function that is bound to an object\n",
    "* For Pandas series,  `.size` and `.dytpe` are both attributes"
   ]
  },
  {
   "cell_type": "code",
   "execution_count": 30,
   "metadata": {},
   "outputs": [
    {
     "data": {
      "text/plain": [
       "3"
      ]
     },
     "execution_count": 30,
     "metadata": {},
     "output_type": "execute_result"
    }
   ],
   "source": [
    "books_series.size"
   ]
  },
  {
   "cell_type": "markdown",
   "metadata": {},
   "source": [
    "### Series Name Attribute"
   ]
  },
  {
   "cell_type": "markdown",
   "metadata": {},
   "source": [
    "Pandas series also have a **name** attribute. However, by default, the name attribute points to the `None` object in Python"
   ]
  },
  {
   "cell_type": "code",
   "execution_count": 36,
   "metadata": {},
   "outputs": [],
   "source": [
    "books_series.name"
   ]
  },
  {
   "cell_type": "code",
   "execution_count": 37,
   "metadata": {},
   "outputs": [
    {
     "data": {
      "text/plain": [
       "True"
      ]
     },
     "execution_count": 37,
     "metadata": {},
     "output_type": "execute_result"
    }
   ],
   "source": [
    "books_series.name == None"
   ]
  },
  {
   "cell_type": "markdown",
   "metadata": {},
   "source": [
    "* Let's give our series a name by setting it to a string.\n",
    "* After doing this, you will see that the series now has a name attribute that is reported when that series is called\n",
    "* Later on, when we create *data frames*, the name of this series will become the column name of the data frame. Keep this in mind for later"
   ]
  },
  {
   "cell_type": "code",
   "execution_count": 38,
   "metadata": {},
   "outputs": [
    {
     "data": {
      "text/plain": [
       "0    Fooled by Randomness\n",
       "1                 Sapiens\n",
       "2      Lenin on the Train\n",
       "Name: my favorite books, dtype: object"
      ]
     },
     "execution_count": 38,
     "metadata": {},
     "output_type": "execute_result"
    }
   ],
   "source": [
    "books_series.name = 'my favorite books'\n",
    "books_series"
   ]
  },
  {
   "cell_type": "markdown",
   "metadata": {},
   "source": [
    "* You can also name the series index! (it does not have one by default)\n",
    "* After naming the series index, you will see that name appear above the indices"
   ]
  },
  {
   "cell_type": "code",
   "execution_count": 40,
   "metadata": {},
   "outputs": [
    {
     "data": {
      "text/plain": [
       "True"
      ]
     },
     "execution_count": 40,
     "metadata": {},
     "output_type": "execute_result"
    }
   ],
   "source": [
    "books_series.index.name == None"
   ]
  },
  {
   "cell_type": "code",
   "execution_count": 42,
   "metadata": {},
   "outputs": [
    {
     "data": {
      "text/plain": [
       "My books indices\n",
       "0    Fooled by Randomness\n",
       "1                 Sapiens\n",
       "2      Lenin on the Train\n",
       "Name: my favorite books, dtype: object"
      ]
     },
     "execution_count": 42,
     "metadata": {},
     "output_type": "execute_result"
    }
   ],
   "source": [
    "books_series.index.name = 'My books indices'\n",
    "books_series"
   ]
  },
  {
   "cell_type": "markdown",
   "metadata": {},
   "source": [
    "## Skill Challenge Instructions\n",
    "1. Create a Python list of length 4 that contains some of your favorite actors. This should be a list of strings. Call this list - assign it to a variable called `actor_names`\n",
    "2. Next, create another Python list of the same length that contains your guesses for how old each actor is. Use integers or floats. Call this list `actor_ages`\n",
    "3. Create a series that stores actor ages and labels the ages using the actor names. To clarify, use the actor name in the index and actor age as values. Give this series a name of `actors`\n",
    "4. Repeat step 3, but create the series from a Python dictionary instead of a list. As an additional challenge, do not type the dictionary manually, but instead dynamically create it uzing the two lists defined in Steps 1 and 2"
   ]
  },
  {
   "cell_type": "markdown",
   "metadata": {},
   "source": [
    "Create the list of actors"
   ]
  },
  {
   "cell_type": "code",
   "execution_count": 43,
   "metadata": {},
   "outputs": [],
   "source": [
    "actor_names = ['Sean Connery','Morgan Freeman','Tom Hanks','Harrison Ford']"
   ]
  },
  {
   "cell_type": "markdown",
   "metadata": {},
   "source": [
    "Create the list of actor ages"
   ]
  },
  {
   "cell_type": "code",
   "execution_count": 44,
   "metadata": {},
   "outputs": [],
   "source": [
    "# Create list of actor ages\n",
    "actor_ages = [85, 79, 65, 80]"
   ]
  },
  {
   "cell_type": "markdown",
   "metadata": {},
   "source": [
    "Using these two lists, create the Pandas series by passing `actor_ages` as data and `actor_names` as the index. Also assign the name of the series within the constructor itself (alternative, can assign afterward using `series.name`"
   ]
  },
  {
   "cell_type": "code",
   "execution_count": 49,
   "metadata": {},
   "outputs": [
    {
     "data": {
      "text/plain": [
       "Sean Connery      85\n",
       "Morgan Freeman    79\n",
       "Tom Hanks         65\n",
       "Harrison Ford     80\n",
       "Name: actors, dtype: int64"
      ]
     },
     "execution_count": 49,
     "metadata": {},
     "output_type": "execute_result"
    }
   ],
   "source": [
    "actors = pd.Series(data = actor_ages, index = actor_names, name = 'actors')\n",
    "actors"
   ]
  },
  {
   "cell_type": "markdown",
   "metadata": {},
   "source": [
    "Create a pPthon dictionary from the actor and ages lists using the `zip` function"
   ]
  },
  {
   "cell_type": "code",
   "execution_count": 46,
   "metadata": {},
   "outputs": [
    {
     "data": {
      "text/plain": [
       "{'Sean Connery': 85,\n",
       " 'Morgan Freeman': 79,\n",
       " 'Tom Hanks': 65,\n",
       " 'Harrison Ford': 80}"
      ]
     },
     "execution_count": 46,
     "metadata": {},
     "output_type": "execute_result"
    }
   ],
   "source": [
    "keys = actor_names\n",
    "values = actor_ages\n",
    "actors_dict = dict(zip(keys,values))\n",
    "actors_dict"
   ]
  },
  {
   "cell_type": "markdown",
   "metadata": {},
   "source": [
    "Convert this dictionary to a Pandas series"
   ]
  },
  {
   "cell_type": "code",
   "execution_count": 50,
   "metadata": {},
   "outputs": [
    {
     "data": {
      "text/plain": [
       "Sean Connery      85\n",
       "Morgan Freeman    79\n",
       "Tom Hanks         65\n",
       "Harrison Ford     80\n",
       "Name: actors, dtype: int64"
      ]
     },
     "execution_count": 50,
     "metadata": {},
     "output_type": "execute_result"
    }
   ],
   "source": [
    "pd.Series(data = actors_dict, name = 'actors')"
   ]
  },
  {
   "cell_type": "markdown",
   "metadata": {},
   "source": [
    "An alternative approach to constructing the dictionary using dictionary comprehension"
   ]
  },
  {
   "cell_type": "code",
   "execution_count": 52,
   "metadata": {},
   "outputs": [
    {
     "data": {
      "text/plain": [
       "{'Sean Connery': 85,\n",
       " 'Morgan Freeman': 79,\n",
       " 'Tom Hanks': 65,\n",
       " 'Harrison Ford': 80}"
      ]
     },
     "execution_count": 52,
     "metadata": {},
     "output_type": "execute_result"
    }
   ],
   "source": [
    "{name:age for name,age in zip(actor_names, actor_ages)}"
   ]
  },
  {
   "cell_type": "code",
   "execution_count": null,
   "metadata": {},
   "outputs": [],
   "source": []
  }
 ],
 "metadata": {
  "colab": {
   "authorship_tag": "ABX9TyODyEmsOqHhAiK1l1BuStNM",
   "collapsed_sections": [],
   "name": "Section2_Series_at_A_Glance.ipynb",
   "provenance": []
  },
  "kernelspec": {
   "display_name": "Python 3",
   "language": "python",
   "name": "python3"
  },
  "language_info": {
   "codemirror_mode": {
    "name": "ipython",
    "version": 3
   },
   "file_extension": ".py",
   "mimetype": "text/x-python",
   "name": "python",
   "nbconvert_exporter": "python",
   "pygments_lexer": "ipython3",
   "version": "3.6.13"
  }
 },
 "nbformat": 4,
 "nbformat_minor": 4
}
