{
 "cells": [
  {
   "cell_type": "code",
   "execution_count": 1,
   "metadata": {
    "executionInfo": {
     "elapsed": 88,
     "status": "ok",
     "timestamp": 1622164840381,
     "user": {
      "displayName": "JASON GABUNILAS",
      "photoUrl": "",
      "userId": "00539107698526397852"
     },
     "user_tz": 420
    },
    "id": "wZgKx1K_IVn9"
   },
   "outputs": [],
   "source": [
    "import pandas as pd\n",
    "import numpy as np"
   ]
  },
  {
   "cell_type": "code",
   "execution_count": 2,
   "metadata": {
    "colab": {
     "base_uri": "https://localhost:8080/",
     "height": 35
    },
    "executionInfo": {
     "elapsed": 89,
     "status": "ok",
     "timestamp": 1622164842826,
     "user": {
      "displayName": "JASON GABUNILAS",
      "photoUrl": "",
      "userId": "00539107698526397852"
     },
     "user_tz": 420
    },
    "id": "v__gx1kLIdzE",
    "outputId": "bed6d3a7-83d1-4a2b-ca1a-763ad713c523"
   },
   "outputs": [
    {
     "data": {
      "application/vnd.google.colaboratory.intrinsic+json": {
       "type": "string"
      },
      "text/plain": [
       "'1.1.5'"
      ]
     },
     "execution_count": 2,
     "metadata": {
      "tags": []
     },
     "output_type": "execute_result"
    }
   ],
   "source": [
    "pd.__version__"
   ]
  },
  {
   "cell_type": "markdown",
   "metadata": {
    "id": "UFvNNy8HIxaH"
   },
   "source": [
    "#### Welcome to the bootcamp!"
   ]
  },
  {
   "cell_type": "code",
   "execution_count": 4,
   "metadata": {
    "executionInfo": {
     "elapsed": 136,
     "status": "ok",
     "timestamp": 1622164849875,
     "user": {
      "displayName": "JASON GABUNILAS",
      "photoUrl": "",
      "userId": "00539107698526397852"
     },
     "user_tz": 420
    },
    "id": "gb9xi71aIzjz"
   },
   "outputs": [],
   "source": [
    "# Example of a numpy array, which is similar to a Python list\n",
    "\n",
    "a_py = [10, 20, 40, 23, 123, 1233]"
   ]
  },
  {
   "cell_type": "code",
   "execution_count": 9,
   "metadata": {
    "colab": {
     "base_uri": "https://localhost:8080/"
    },
    "executionInfo": {
     "elapsed": 186,
     "status": "ok",
     "timestamp": 1622164887621,
     "user": {
      "displayName": "JASON GABUNILAS",
      "photoUrl": "",
      "userId": "00539107698526397852"
     },
     "user_tz": 420
    },
    "id": "CqgbwDX_jeqb",
    "outputId": "8c16769c-1976-4878-c54f-4d560768175f"
   },
   "outputs": [
    {
     "data": {
      "text/plain": [
       "[10, 20, 40, 23, 123, 1233]"
      ]
     },
     "execution_count": 9,
     "metadata": {
      "tags": []
     },
     "output_type": "execute_result"
    }
   ],
   "source": [
    "type(a_py)\n",
    "a_py"
   ]
  },
  {
   "cell_type": "code",
   "execution_count": 6,
   "metadata": {
    "executionInfo": {
     "elapsed": 156,
     "status": "ok",
     "timestamp": 1622164850669,
     "user": {
      "displayName": "JASON GABUNILAS",
      "photoUrl": "",
      "userId": "00539107698526397852"
     },
     "user_tz": 420
    },
    "id": "0tUfr8-GjfoH"
   },
   "outputs": [],
   "source": [
    "# To convert this to a numpy array, we use the array constructor\n",
    "b_np = np.array([10, 20, 40, 23, 123, 1233])"
   ]
  },
  {
   "cell_type": "code",
   "execution_count": 8,
   "metadata": {
    "colab": {
     "base_uri": "https://localhost:8080/"
    },
    "executionInfo": {
     "elapsed": 192,
     "status": "ok",
     "timestamp": 1622164881040,
     "user": {
      "displayName": "JASON GABUNILAS",
      "photoUrl": "",
      "userId": "00539107698526397852"
     },
     "user_tz": 420
    },
    "id": "dC_kOGCMjlKO",
    "outputId": "79da3f86-9b66-4cbe-c0dc-d1db6cfdb0f9"
   },
   "outputs": [
    {
     "data": {
      "text/plain": [
       "array([  10,   20,   40,   23,  123, 1233])"
      ]
     },
     "execution_count": 8,
     "metadata": {
      "tags": []
     },
     "output_type": "execute_result"
    }
   ],
   "source": [
    "# We see that this is now a numpy array\n",
    "type(b_np)\n",
    "b_np"
   ]
  },
  {
   "cell_type": "code",
   "execution_count": 10,
   "metadata": {
    "colab": {
     "base_uri": "https://localhost:8080/"
    },
    "executionInfo": {
     "elapsed": 89,
     "status": "ok",
     "timestamp": 1622165026174,
     "user": {
      "displayName": "JASON GABUNILAS",
      "photoUrl": "",
      "userId": "00539107698526397852"
     },
     "user_tz": 420
    },
    "id": "CcMF3kPij2I7",
    "outputId": "4fa88a4c-cc48-4214-acb2-91020de699c8"
   },
   "outputs": [
    {
     "data": {
      "text/plain": [
       "[100, 200, 400, 230, 1230, 12330]"
      ]
     },
     "execution_count": 10,
     "metadata": {
      "tags": []
     },
     "output_type": "execute_result"
    }
   ],
   "source": [
    "# Let's try applying an operation on a list. Here, we construct a new list by multiplying all of the numbers in the list a_py by 10\n",
    "arr = []\n",
    "\n",
    "for i in a_py:\n",
    "  arr.append(i * 10)\n",
    "\n",
    "arr"
   ]
  },
  {
   "cell_type": "code",
   "execution_count": 11,
   "metadata": {
    "colab": {
     "base_uri": "https://localhost:8080/"
    },
    "executionInfo": {
     "elapsed": 92,
     "status": "ok",
     "timestamp": 1622165192898,
     "user": {
      "displayName": "JASON GABUNILAS",
      "photoUrl": "",
      "userId": "00539107698526397852"
     },
     "user_tz": 420
    },
    "id": "30w6sd7IkfST",
    "outputId": "5aa7ac48-b2d2-4229-f170-ed0d6b4e6a60"
   },
   "outputs": [
    {
     "data": {
      "text/plain": [
       "array([  100,   200,   400,   230,  1230, 12330])"
      ]
     },
     "execution_count": 11,
     "metadata": {
      "tags": []
     },
     "output_type": "execute_result"
    }
   ],
   "source": [
    "# Now we'll use arrays in Numpy instead. Here, we can do a similar operation by multiplying the entire array by a value, instead of having to use list iteration techniques\n",
    "# This is so much easier\n",
    "b_np * 10"
   ]
  },
  {
   "cell_type": "code",
   "execution_count": 12,
   "metadata": {
    "colab": {
     "base_uri": "https://localhost:8080/"
    },
    "executionInfo": {
     "elapsed": 117,
     "status": "ok",
     "timestamp": 1622165433833,
     "user": {
      "displayName": "JASON GABUNILAS",
      "photoUrl": "",
      "userId": "00539107698526397852"
     },
     "user_tz": 420
    },
    "id": "NGjLnQ84lH_P",
    "outputId": "1add39ad-8668-490c-c2df-3a5526cbaed3"
   },
   "outputs": [
    {
     "data": {
      "text/plain": [
       "array([1, 2, 3])"
      ]
     },
     "execution_count": 12,
     "metadata": {
      "tags": []
     },
     "output_type": "execute_result"
    }
   ],
   "source": [
    "# Illustration of Numpy trade-off\n",
    "c_np = np.array([1, 2, 3])\n",
    "c_np"
   ]
  },
  {
   "cell_type": "code",
   "execution_count": 13,
   "metadata": {
    "colab": {
     "base_uri": "https://localhost:8080/"
    },
    "executionInfo": {
     "elapsed": 126,
     "status": "ok",
     "timestamp": 1622165440406,
     "user": {
      "displayName": "JASON GABUNILAS",
      "photoUrl": "",
      "userId": "00539107698526397852"
     },
     "user_tz": 420
    },
    "id": "lZrayvtpmCwU",
    "outputId": "86622bf2-f1dd-4bf3-9898-c82249a93963"
   },
   "outputs": [
    {
     "data": {
      "text/plain": [
       "dtype('int64')"
      ]
     },
     "execution_count": 13,
     "metadata": {
      "tags": []
     },
     "output_type": "execute_result"
    }
   ],
   "source": [
    "# Numpy stores this as 64-bit integers. Each number is stored as a 64-bit integer in a contiguous block of memory\n",
    "c_np.dtype"
   ]
  },
  {
   "cell_type": "code",
   "execution_count": 14,
   "metadata": {
    "colab": {
     "base_uri": "https://localhost:8080/"
    },
    "executionInfo": {
     "elapsed": 103,
     "status": "ok",
     "timestamp": 1622165531484,
     "user": {
      "displayName": "JASON GABUNILAS",
      "photoUrl": "",
      "userId": "00539107698526397852"
     },
     "user_tz": 420
    },
    "id": "r7TsitTxmEWV",
    "outputId": "83d705c8-c618-479d-e6e3-ecb97bf76ede"
   },
   "outputs": [
    {
     "data": {
      "text/plain": [
       "array([1., 2., 3.])"
      ]
     },
     "execution_count": 14,
     "metadata": {
      "tags": []
     },
     "output_type": "execute_result"
    }
   ],
   "source": [
    "# What happens if we change one of the values to a floating point? \n",
    "c_np = np.array([1, 2.0, 3])\n",
    "c_np"
   ]
  },
  {
   "cell_type": "code",
   "execution_count": 15,
   "metadata": {
    "colab": {
     "base_uri": "https://localhost:8080/"
    },
    "executionInfo": {
     "elapsed": 87,
     "status": "ok",
     "timestamp": 1622165541588,
     "user": {
      "displayName": "JASON GABUNILAS",
      "photoUrl": "",
      "userId": "00539107698526397852"
     },
     "user_tz": 420
    },
    "id": "AzzCfMPmmapn",
    "outputId": "52ac64c0-5383-4be1-ce7f-02dfcab9a367"
   },
   "outputs": [
    {
     "data": {
      "text/plain": [
       "dtype('float64')"
      ]
     },
     "execution_count": 15,
     "metadata": {
      "tags": []
     },
     "output_type": "execute_result"
    }
   ],
   "source": [
    "# Numpy forces everything to a floating point variable, known as implicit upcasting\n",
    "c_np.dtype"
   ]
  }
 ],
 "metadata": {
  "colab": {
   "authorship_tag": "ABX9TyNbKE8B0xblsUklyRiSkHSf",
   "collapsed_sections": [],
   "name": "Pandas_Bootcamp_First_Cloud_Notebook.ipynb",
   "provenance": []
  },
  "kernelspec": {
   "display_name": "Python 3",
   "language": "python",
   "name": "python3"
  },
  "language_info": {
   "codemirror_mode": {
    "name": "ipython",
    "version": 3
   },
   "file_extension": ".py",
   "mimetype": "text/x-python",
   "name": "python",
   "nbconvert_exporter": "python",
   "pygments_lexer": "ipython3",
   "version": "3.6.13"
  }
 },
 "nbformat": 4,
 "nbformat_minor": 4
}
